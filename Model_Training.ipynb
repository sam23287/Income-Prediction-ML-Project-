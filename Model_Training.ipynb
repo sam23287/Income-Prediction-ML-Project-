{
 "cells": [
  {
   "cell_type": "code",
   "execution_count": 21,
   "id": "5b3817fc-64c9-4d99-a857-d4aba49ab71d",
   "metadata": {},
   "outputs": [],
   "source": [
    "import pandas as pd\n",
    "import numpy as np\n",
    "import seaborn as sns\n",
    "import matplotlib.pyplot as plt"
   ]
  },
  {
   "cell_type": "code",
   "execution_count": 22,
   "id": "46d95271-ab60-4c2b-82f7-d1f5fda33db2",
   "metadata": {},
   "outputs": [
    {
     "data": {
      "text/html": [
       "<div>\n",
       "<style scoped>\n",
       "    .dataframe tbody tr th:only-of-type {\n",
       "        vertical-align: middle;\n",
       "    }\n",
       "\n",
       "    .dataframe tbody tr th {\n",
       "        vertical-align: top;\n",
       "    }\n",
       "\n",
       "    .dataframe thead th {\n",
       "        text-align: right;\n",
       "    }\n",
       "</style>\n",
       "<table border=\"1\" class=\"dataframe\">\n",
       "  <thead>\n",
       "    <tr style=\"text-align: right;\">\n",
       "      <th></th>\n",
       "      <th>age</th>\n",
       "      <th>workclass</th>\n",
       "      <th>fnlwgt</th>\n",
       "      <th>education</th>\n",
       "      <th>education-num</th>\n",
       "      <th>marital-status</th>\n",
       "      <th>occupation</th>\n",
       "      <th>relationship</th>\n",
       "      <th>race</th>\n",
       "      <th>sex</th>\n",
       "      <th>capital-gain</th>\n",
       "      <th>capital-loss</th>\n",
       "      <th>hours-per-week</th>\n",
       "      <th>country</th>\n",
       "      <th>salary</th>\n",
       "    </tr>\n",
       "  </thead>\n",
       "  <tbody>\n",
       "    <tr>\n",
       "      <th>0</th>\n",
       "      <td>39</td>\n",
       "      <td>State-gov</td>\n",
       "      <td>77516</td>\n",
       "      <td>Bachelors</td>\n",
       "      <td>13</td>\n",
       "      <td>Never-married</td>\n",
       "      <td>Adm-clerical</td>\n",
       "      <td>Not-in-family</td>\n",
       "      <td>White</td>\n",
       "      <td>Male</td>\n",
       "      <td>2174</td>\n",
       "      <td>0</td>\n",
       "      <td>40</td>\n",
       "      <td>United-States</td>\n",
       "      <td>0</td>\n",
       "    </tr>\n",
       "    <tr>\n",
       "      <th>1</th>\n",
       "      <td>50</td>\n",
       "      <td>Self-emp-not-inc</td>\n",
       "      <td>83311</td>\n",
       "      <td>Bachelors</td>\n",
       "      <td>13</td>\n",
       "      <td>Married-civ-spouse</td>\n",
       "      <td>Exec-managerial</td>\n",
       "      <td>Husband</td>\n",
       "      <td>White</td>\n",
       "      <td>Male</td>\n",
       "      <td>0</td>\n",
       "      <td>0</td>\n",
       "      <td>13</td>\n",
       "      <td>United-States</td>\n",
       "      <td>0</td>\n",
       "    </tr>\n",
       "    <tr>\n",
       "      <th>2</th>\n",
       "      <td>38</td>\n",
       "      <td>Private</td>\n",
       "      <td>215646</td>\n",
       "      <td>HS-grad</td>\n",
       "      <td>9</td>\n",
       "      <td>Divorced</td>\n",
       "      <td>Handlers-cleaners</td>\n",
       "      <td>Not-in-family</td>\n",
       "      <td>White</td>\n",
       "      <td>Male</td>\n",
       "      <td>0</td>\n",
       "      <td>0</td>\n",
       "      <td>40</td>\n",
       "      <td>United-States</td>\n",
       "      <td>0</td>\n",
       "    </tr>\n",
       "    <tr>\n",
       "      <th>3</th>\n",
       "      <td>53</td>\n",
       "      <td>Private</td>\n",
       "      <td>234721</td>\n",
       "      <td>11th</td>\n",
       "      <td>7</td>\n",
       "      <td>Married-civ-spouse</td>\n",
       "      <td>Handlers-cleaners</td>\n",
       "      <td>Husband</td>\n",
       "      <td>Black</td>\n",
       "      <td>Male</td>\n",
       "      <td>0</td>\n",
       "      <td>0</td>\n",
       "      <td>40</td>\n",
       "      <td>United-States</td>\n",
       "      <td>0</td>\n",
       "    </tr>\n",
       "    <tr>\n",
       "      <th>4</th>\n",
       "      <td>28</td>\n",
       "      <td>Private</td>\n",
       "      <td>338409</td>\n",
       "      <td>Bachelors</td>\n",
       "      <td>13</td>\n",
       "      <td>Married-civ-spouse</td>\n",
       "      <td>Prof-specialty</td>\n",
       "      <td>Wife</td>\n",
       "      <td>Black</td>\n",
       "      <td>Female</td>\n",
       "      <td>0</td>\n",
       "      <td>0</td>\n",
       "      <td>40</td>\n",
       "      <td>Cuba</td>\n",
       "      <td>0</td>\n",
       "    </tr>\n",
       "    <tr>\n",
       "      <th>...</th>\n",
       "      <td>...</td>\n",
       "      <td>...</td>\n",
       "      <td>...</td>\n",
       "      <td>...</td>\n",
       "      <td>...</td>\n",
       "      <td>...</td>\n",
       "      <td>...</td>\n",
       "      <td>...</td>\n",
       "      <td>...</td>\n",
       "      <td>...</td>\n",
       "      <td>...</td>\n",
       "      <td>...</td>\n",
       "      <td>...</td>\n",
       "      <td>...</td>\n",
       "      <td>...</td>\n",
       "    </tr>\n",
       "    <tr>\n",
       "      <th>32532</th>\n",
       "      <td>27</td>\n",
       "      <td>Private</td>\n",
       "      <td>257302</td>\n",
       "      <td>Assoc-acdm</td>\n",
       "      <td>12</td>\n",
       "      <td>Married-civ-spouse</td>\n",
       "      <td>Tech-support</td>\n",
       "      <td>Wife</td>\n",
       "      <td>White</td>\n",
       "      <td>Female</td>\n",
       "      <td>0</td>\n",
       "      <td>0</td>\n",
       "      <td>38</td>\n",
       "      <td>United-States</td>\n",
       "      <td>0</td>\n",
       "    </tr>\n",
       "    <tr>\n",
       "      <th>32533</th>\n",
       "      <td>40</td>\n",
       "      <td>Private</td>\n",
       "      <td>154374</td>\n",
       "      <td>HS-grad</td>\n",
       "      <td>9</td>\n",
       "      <td>Married-civ-spouse</td>\n",
       "      <td>Machine-op-inspct</td>\n",
       "      <td>Husband</td>\n",
       "      <td>White</td>\n",
       "      <td>Male</td>\n",
       "      <td>0</td>\n",
       "      <td>0</td>\n",
       "      <td>40</td>\n",
       "      <td>United-States</td>\n",
       "      <td>1</td>\n",
       "    </tr>\n",
       "    <tr>\n",
       "      <th>32534</th>\n",
       "      <td>58</td>\n",
       "      <td>Private</td>\n",
       "      <td>151910</td>\n",
       "      <td>HS-grad</td>\n",
       "      <td>9</td>\n",
       "      <td>Widowed</td>\n",
       "      <td>Adm-clerical</td>\n",
       "      <td>Unmarried</td>\n",
       "      <td>White</td>\n",
       "      <td>Female</td>\n",
       "      <td>0</td>\n",
       "      <td>0</td>\n",
       "      <td>40</td>\n",
       "      <td>United-States</td>\n",
       "      <td>0</td>\n",
       "    </tr>\n",
       "    <tr>\n",
       "      <th>32535</th>\n",
       "      <td>22</td>\n",
       "      <td>Private</td>\n",
       "      <td>201490</td>\n",
       "      <td>HS-grad</td>\n",
       "      <td>9</td>\n",
       "      <td>Never-married</td>\n",
       "      <td>Adm-clerical</td>\n",
       "      <td>Own-child</td>\n",
       "      <td>White</td>\n",
       "      <td>Male</td>\n",
       "      <td>0</td>\n",
       "      <td>0</td>\n",
       "      <td>20</td>\n",
       "      <td>United-States</td>\n",
       "      <td>0</td>\n",
       "    </tr>\n",
       "    <tr>\n",
       "      <th>32536</th>\n",
       "      <td>52</td>\n",
       "      <td>Self-emp-inc</td>\n",
       "      <td>287927</td>\n",
       "      <td>HS-grad</td>\n",
       "      <td>9</td>\n",
       "      <td>Married-civ-spouse</td>\n",
       "      <td>Exec-managerial</td>\n",
       "      <td>Wife</td>\n",
       "      <td>White</td>\n",
       "      <td>Female</td>\n",
       "      <td>15024</td>\n",
       "      <td>0</td>\n",
       "      <td>40</td>\n",
       "      <td>United-States</td>\n",
       "      <td>1</td>\n",
       "    </tr>\n",
       "  </tbody>\n",
       "</table>\n",
       "<p>32537 rows × 15 columns</p>\n",
       "</div>"
      ],
      "text/plain": [
       "       age          workclass  fnlwgt    education  education-num  \\\n",
       "0       39          State-gov   77516    Bachelors             13   \n",
       "1       50   Self-emp-not-inc   83311    Bachelors             13   \n",
       "2       38            Private  215646      HS-grad              9   \n",
       "3       53            Private  234721         11th              7   \n",
       "4       28            Private  338409    Bachelors             13   \n",
       "...    ...                ...     ...          ...            ...   \n",
       "32532   27            Private  257302   Assoc-acdm             12   \n",
       "32533   40            Private  154374      HS-grad              9   \n",
       "32534   58            Private  151910      HS-grad              9   \n",
       "32535   22            Private  201490      HS-grad              9   \n",
       "32536   52       Self-emp-inc  287927      HS-grad              9   \n",
       "\n",
       "            marital-status          occupation    relationship    race  \\\n",
       "0            Never-married        Adm-clerical   Not-in-family   White   \n",
       "1       Married-civ-spouse     Exec-managerial         Husband   White   \n",
       "2                 Divorced   Handlers-cleaners   Not-in-family   White   \n",
       "3       Married-civ-spouse   Handlers-cleaners         Husband   Black   \n",
       "4       Married-civ-spouse      Prof-specialty            Wife   Black   \n",
       "...                    ...                 ...             ...     ...   \n",
       "32532   Married-civ-spouse        Tech-support            Wife   White   \n",
       "32533   Married-civ-spouse   Machine-op-inspct         Husband   White   \n",
       "32534              Widowed        Adm-clerical       Unmarried   White   \n",
       "32535        Never-married        Adm-clerical       Own-child   White   \n",
       "32536   Married-civ-spouse     Exec-managerial            Wife   White   \n",
       "\n",
       "           sex  capital-gain  capital-loss  hours-per-week         country  \\\n",
       "0         Male          2174             0              40   United-States   \n",
       "1         Male             0             0              13   United-States   \n",
       "2         Male             0             0              40   United-States   \n",
       "3         Male             0             0              40   United-States   \n",
       "4       Female             0             0              40            Cuba   \n",
       "...        ...           ...           ...             ...             ...   \n",
       "32532   Female             0             0              38   United-States   \n",
       "32533     Male             0             0              40   United-States   \n",
       "32534   Female             0             0              40   United-States   \n",
       "32535     Male             0             0              20   United-States   \n",
       "32536   Female         15024             0              40   United-States   \n",
       "\n",
       "       salary  \n",
       "0           0  \n",
       "1           0  \n",
       "2           0  \n",
       "3           0  \n",
       "4           0  \n",
       "...       ...  \n",
       "32532       0  \n",
       "32533       1  \n",
       "32534       0  \n",
       "32535       0  \n",
       "32536       1  \n",
       "\n",
       "[32537 rows x 15 columns]"
      ]
     },
     "execution_count": 22,
     "metadata": {},
     "output_type": "execute_result"
    }
   ],
   "source": [
    "df= pd.read_csv('income.csv')\n",
    "df"
   ]
  },
  {
   "cell_type": "code",
   "execution_count": 23,
   "id": "9360ece0-2dfa-44a1-9ee2-0f0e73f94c9b",
   "metadata": {},
   "outputs": [],
   "source": [
    "cat_cols = df.select_dtypes(include=['object', 'category']).columns  # Categorical columns\n",
    "num_cols = df.select_dtypes(include=['int64', 'float64']).columns    # Numerical columns"
   ]
  },
  {
   "cell_type": "code",
   "execution_count": 24,
   "id": "b2a2217e-ddaa-4647-8842-c2b9c684a451",
   "metadata": {},
   "outputs": [
    {
     "name": "stdout",
     "output_type": "stream",
     "text": [
      "Applied log transformation to right-skewed column: capital-gain\n",
      "Applied log transformation to right-skewed column: capital-loss\n"
     ]
    }
   ],
   "source": [
    "# Transformations will be used while doing model training and building but not while EDA\n",
    "\n",
    "from scipy.stats import boxcox\n",
    "from scipy.stats import skew\n",
    "\n",
    "# Function to apply transformations based on skewness\n",
    "def transform_skewed_data(df):\n",
    "    for col in ['capital-gain','capital-loss']:\n",
    "        col_skewness = skew(df[col].dropna())\n",
    "        \n",
    "        if col_skewness > 1:  # Right-skewed (Positive skewness)\n",
    "            # Apply log transformation, handling any zero or negative values by adding a small constant\n",
    "            df[col] = np.log(df[col] + 1e-5)\n",
    "            print(f\"Applied log transformation to right-skewed column: {col}\")\n",
    "        \n",
    "        elif col_skewness < -1:  # Left-skewed (Negative skewness)\n",
    "            # Apply reflect and log transformation\n",
    "            df[col] = np.log(df[col].max() + 1 - df[col])\n",
    "            print(f\"Applied reflect and log transformation to left-skewed column: {col}\")\n",
    "        \n",
    "        else:  # Both-sided skewed or near-symmetric\n",
    "            # Apply Box-Cox transformation, handling negative or zero values by shifting\n",
    "            if (df[col] <= 0).any():\n",
    "                df[col] = df[col] - df[col].min() + 1  # Shift values to be positive\n",
    "            df[col], _ = boxcox(df[col])\n",
    "            print(f\"Applied Box-Cox transformation to column with both-sided skew or near-symmetry: {col}\")\n",
    "\n",
    "    return df\n",
    "\n",
    "# Apply transformations\n",
    "df = transform_skewed_data(df)"
   ]
  },
  {
   "cell_type": "code",
   "execution_count": 5,
   "id": "b3982312-8a5a-48d0-b545-930f28971c45",
   "metadata": {},
   "outputs": [
    {
     "name": "stderr",
     "output_type": "stream",
     "text": [
      "c:\\Users\\sharm\\anaconda3\\Lib\\site-packages\\seaborn\\_oldcore.py:1119: FutureWarning: use_inf_as_na option is deprecated and will be removed in a future version. Convert inf values to NaN before operating instead.\n",
      "  with pd.option_context('mode.use_inf_as_na', True):\n"
     ]
    },
    {
     "data": {
      "image/png": "[encoded data removed]",
      "text/plain": [
       "<Figure size 640x480 with 1 Axes>"
      ]
     },
     "metadata": {},
     "output_type": "display_data"
    },
    {
     "name": "stderr",
     "output_type": "stream",
     "text": [
      "c:\\Users\\sharm\\anaconda3\\Lib\\site-packages\\seaborn\\_oldcore.py:1119: FutureWarning: use_inf_as_na option is deprecated and will be removed in a future version. Convert inf values to NaN before operating instead.\n",
      "  with pd.option_context('mode.use_inf_as_na', True):\n"
     ]
    },
    {
     "data": {
      "image/png": "[encoded data removed]",
      "text/plain": [
       "<Figure size 640x480 with 1 Axes>"
      ]
     },
     "metadata": {},
     "output_type": "display_data"
    },
    {
     "name": "stderr",
     "output_type": "stream",
     "text": [
      "c:\\Users\\sharm\\anaconda3\\Lib\\site-packages\\seaborn\\_oldcore.py:1119: FutureWarning: use_inf_as_na option is deprecated and will be removed in a future version. Convert inf values to NaN before operating instead.\n",
      "  with pd.option_context('mode.use_inf_as_na', True):\n"
     ]
    },
    {
     "data": {
      "image/png": "[encoded data removed]",
      "text/plain": [
       "<Figure size 640x480 with 1 Axes>"
      ]
     },
     "metadata": {},
     "output_type": "display_data"
    },
    {
     "name": "stderr",
     "output_type": "stream",
     "text": [
      "c:\\Users\\sharm\\anaconda3\\Lib\\site-packages\\seaborn\\_oldcore.py:1119: FutureWarning: use_inf_as_na option is deprecated and will be removed in a future version. Convert inf values to NaN before operating instead.\n",
      "  with pd.option_context('mode.use_inf_as_na', True):\n"
     ]
    },
    {
     "data": {
      "image/png": "[encoded data removed]",
      "text/plain": [
       "<Figure size 640x480 with 1 Axes>"
      ]
     },
     "metadata": {},
     "output_type": "display_data"
    },
    {
     "name": "stderr",
     "output_type": "stream",
     "text": [
      "c:\\Users\\sharm\\anaconda3\\Lib\\site-packages\\seaborn\\_oldcore.py:1119: FutureWarning: use_inf_as_na option is deprecated and will be removed in a future version. Convert inf values to NaN before operating instead.\n",
      "  with pd.option_context('mode.use_inf_as_na', True):\n"
     ]
    },
    {
     "data": {
      "image/png": "[encoded data removed]",
      "text/plain": [
       "<Figure size 640x480 with 1 Axes>"
      ]
     },
     "metadata": {},
     "output_type": "display_data"
    },
    {
     "name": "stderr",
     "output_type": "stream",
     "text": [
      "c:\\Users\\sharm\\anaconda3\\Lib\\site-packages\\seaborn\\_oldcore.py:1119: FutureWarning: use_inf_as_na option is deprecated and will be removed in a future version. Convert inf values to NaN before operating instead.\n",
      "  with pd.option_context('mode.use_inf_as_na', True):\n"
     ]
    },
    {
     "data": {
      "image/png": "[encoded data removed]",
      "text/plain": [
       "<Figure size 640x480 with 1 Axes>"
      ]
     },
     "metadata": {},
     "output_type": "display_data"
    },
    {
     "name": "stderr",
     "output_type": "stream",
     "text": [
      "c:\\Users\\sharm\\anaconda3\\Lib\\site-packages\\seaborn\\_oldcore.py:1119: FutureWarning: use_inf_as_na option is deprecated and will be removed in a future version. Convert inf values to NaN before operating instead.\n",
      "  with pd.option_context('mode.use_inf_as_na', True):\n"
     ]
    },
    {
     "data": {
      "image/png": "[encoded data removed]",
      "text/plain": [
       "<Figure size 640x480 with 1 Axes>"
      ]
     },
     "metadata": {},
     "output_type": "display_data"
    }
   ],
   "source": [
    "for i in num_cols:\n",
    "    sns.histplot(data=df,x=i,bins=30,kde=True,color='g')\n",
    "    plt.show()"
   ]
  },
  {
   "cell_type": "code",
   "execution_count": 25,
   "id": "49d52ed7-1608-4657-8342-66807f6b977e",
   "metadata": {},
   "outputs": [
    {
     "data": {
      "text/plain": [
       "Index(['age', 'workclass', 'fnlwgt', 'education', 'education-num',\n",
       "       'marital-status', 'occupation', 'relationship', 'race', 'sex',\n",
       "       'capital-gain', 'capital-loss', 'hours-per-week', 'country', 'salary'],\n",
       "      dtype='object')"
      ]
     },
     "execution_count": 25,
     "metadata": {},
     "output_type": "execute_result"
    }
   ],
   "source": [
    "df.columns"
   ]
  },
  {
   "cell_type": "code",
   "execution_count": 26,
   "id": "6814a1e9-ef0a-4f81-a6a1-7ff7312df43c",
   "metadata": {},
   "outputs": [
    {
     "data": {
      "text/html": [
       "<div>\n",
       "<style scoped>\n",
       "    .dataframe tbody tr th:only-of-type {\n",
       "        vertical-align: middle;\n",
       "    }\n",
       "\n",
       "    .dataframe tbody tr th {\n",
       "        vertical-align: top;\n",
       "    }\n",
       "\n",
       "    .dataframe thead th {\n",
       "        text-align: right;\n",
       "    }\n",
       "</style>\n",
       "<table border=\"1\" class=\"dataframe\">\n",
       "  <thead>\n",
       "    <tr style=\"text-align: right;\">\n",
       "      <th></th>\n",
       "      <th>age</th>\n",
       "      <th>fnlwgt</th>\n",
       "      <th>education-num</th>\n",
       "      <th>capital-gain</th>\n",
       "      <th>capital-loss</th>\n",
       "      <th>hours-per-week</th>\n",
       "      <th>salary</th>\n",
       "    </tr>\n",
       "  </thead>\n",
       "  <tbody>\n",
       "    <tr>\n",
       "      <th>count</th>\n",
       "      <td>32537.000000</td>\n",
       "      <td>3.253700e+04</td>\n",
       "      <td>32537.000000</td>\n",
       "      <td>32537.000000</td>\n",
       "      <td>32537.000000</td>\n",
       "      <td>32537.000000</td>\n",
       "      <td>32537.000000</td>\n",
       "    </tr>\n",
       "    <tr>\n",
       "      <th>mean</th>\n",
       "      <td>38.585549</td>\n",
       "      <td>1.897808e+05</td>\n",
       "      <td>10.081815</td>\n",
       "      <td>-9.818166</td>\n",
       "      <td>-10.624904</td>\n",
       "      <td>40.440329</td>\n",
       "      <td>0.240926</td>\n",
       "    </tr>\n",
       "    <tr>\n",
       "      <th>std</th>\n",
       "      <td>13.637984</td>\n",
       "      <td>1.055565e+05</td>\n",
       "      <td>2.571633</td>\n",
       "      <td>5.627947</td>\n",
       "      <td>4.013280</td>\n",
       "      <td>12.346889</td>\n",
       "      <td>0.427652</td>\n",
       "    </tr>\n",
       "    <tr>\n",
       "      <th>min</th>\n",
       "      <td>17.000000</td>\n",
       "      <td>1.228500e+04</td>\n",
       "      <td>1.000000</td>\n",
       "      <td>-11.512925</td>\n",
       "      <td>-11.512925</td>\n",
       "      <td>1.000000</td>\n",
       "      <td>0.000000</td>\n",
       "    </tr>\n",
       "    <tr>\n",
       "      <th>25%</th>\n",
       "      <td>28.000000</td>\n",
       "      <td>1.178270e+05</td>\n",
       "      <td>9.000000</td>\n",
       "      <td>-11.512925</td>\n",
       "      <td>-11.512925</td>\n",
       "      <td>40.000000</td>\n",
       "      <td>0.000000</td>\n",
       "    </tr>\n",
       "    <tr>\n",
       "      <th>50%</th>\n",
       "      <td>37.000000</td>\n",
       "      <td>1.783560e+05</td>\n",
       "      <td>10.000000</td>\n",
       "      <td>-11.512925</td>\n",
       "      <td>-11.512925</td>\n",
       "      <td>40.000000</td>\n",
       "      <td>0.000000</td>\n",
       "    </tr>\n",
       "    <tr>\n",
       "      <th>75%</th>\n",
       "      <td>48.000000</td>\n",
       "      <td>2.369930e+05</td>\n",
       "      <td>12.000000</td>\n",
       "      <td>-11.512925</td>\n",
       "      <td>-11.512925</td>\n",
       "      <td>45.000000</td>\n",
       "      <td>0.000000</td>\n",
       "    </tr>\n",
       "    <tr>\n",
       "      <th>max</th>\n",
       "      <td>90.000000</td>\n",
       "      <td>1.484705e+06</td>\n",
       "      <td>16.000000</td>\n",
       "      <td>11.512915</td>\n",
       "      <td>8.379309</td>\n",
       "      <td>99.000000</td>\n",
       "      <td>1.000000</td>\n",
       "    </tr>\n",
       "  </tbody>\n",
       "</table>\n",
       "</div>"
      ],
      "text/plain": [
       "                age        fnlwgt  education-num  capital-gain  capital-loss  \\\n",
       "count  32537.000000  3.253700e+04   32537.000000  32537.000000  32537.000000   \n",
       "mean      38.585549  1.897808e+05      10.081815     -9.818166    -10.624904   \n",
       "std       13.637984  1.055565e+05       2.571633      5.627947      4.013280   \n",
       "min       17.000000  1.228500e+04       1.000000    -11.512925    -11.512925   \n",
       "25%       28.000000  1.178270e+05       9.000000    -11.512925    -11.512925   \n",
       "50%       37.000000  1.783560e+05      10.000000    -11.512925    -11.512925   \n",
       "75%       48.000000  2.369930e+05      12.000000    -11.512925    -11.512925   \n",
       "max       90.000000  1.484705e+06      16.000000     11.512915      8.379309   \n",
       "\n",
       "       hours-per-week        salary  \n",
       "count    32537.000000  32537.000000  \n",
       "mean        40.440329      0.240926  \n",
       "std         12.346889      0.427652  \n",
       "min          1.000000      0.000000  \n",
       "25%         40.000000      0.000000  \n",
       "50%         40.000000      0.000000  \n",
       "75%         45.000000      0.000000  \n",
       "max         99.000000      1.000000  "
      ]
     },
     "execution_count": 26,
     "metadata": {},
     "output_type": "execute_result"
    }
   ],
   "source": [
    "df.describe()"
   ]
  },
  {
   "cell_type": "markdown",
   "id": "3266abed-3f96-45c4-9db3-5bbc3ac47b20",
   "metadata": {},
   "source": [
    "### Data preprocessing II"
   ]
  },
  {
   "cell_type": "code",
   "execution_count": 27,
   "id": "ad0ff743-3045-4642-9a21-6cb03ff24a37",
   "metadata": {},
   "outputs": [],
   "source": [
    "from sklearn.preprocessing import StandardScaler,OneHotEncoder\n",
    "from sklearn.compose import ColumnTransformer\n",
    "from sklearn.pipeline import Pipeline\n",
    "from sklearn.model_selection import train_test_split"
   ]
  },
  {
   "cell_type": "code",
   "execution_count": 28,
   "id": "b89163fb-a8a8-4d01-a8a9-a9c949c082ed",
   "metadata": {},
   "outputs": [
    {
     "data": {
      "text/plain": [
       "Index(['age', 'fnlwgt', 'education-num', 'capital-gain', 'capital-loss',\n",
       "       'hours-per-week', 'salary'],\n",
       "      dtype='object')"
      ]
     },
     "execution_count": 28,
     "metadata": {},
     "output_type": "execute_result"
    }
   ],
   "source": [
    "num_cols"
   ]
  },
  {
   "cell_type": "markdown",
   "id": "85944a9e-27da-4d33-9d4a-8e094ca9bf9c",
   "metadata": {},
   "source": [
    "Removing the target variable from numerical features column before transformation"
   ]
  },
  {
   "cell_type": "code",
   "execution_count": 29,
   "id": "6271b043-81ea-45ac-9988-d7fdc21b20e3",
   "metadata": {},
   "outputs": [],
   "source": [
    "num_cols1= [col for col in num_cols if col!='salary']"
   ]
  },
  {
   "cell_type": "code",
   "execution_count": 30,
   "id": "b6fea431",
   "metadata": {},
   "outputs": [
    {
     "data": {
      "text/plain": [
       "Index(['workclass', 'education', 'marital-status', 'occupation',\n",
       "       'relationship', 'race', 'sex', 'country'],\n",
       "      dtype='object')"
      ]
     },
     "execution_count": 30,
     "metadata": {},
     "output_type": "execute_result"
    }
   ],
   "source": [
    "cat_cols"
   ]
  },
  {
   "cell_type": "code",
   "execution_count": 31,
   "id": "25b5ad7f",
   "metadata": {},
   "outputs": [
    {
     "name": "stdout",
     "output_type": "stream",
     "text": [
      "workclass-->[' State-gov' ' Self-emp-not-inc' ' Private' ' Federal-gov' ' Local-gov'\n",
      " ' Self-emp-inc' ' Without-pay' ' Never-worked']\n",
      "education-->[' Bachelors' ' HS-grad' ' 11th' ' Masters' ' 9th' ' Some-college'\n",
      " ' Assoc-acdm' ' Assoc-voc' ' 7th-8th' ' Doctorate' ' Prof-school'\n",
      " ' 5th-6th' ' 10th' ' 1st-4th' ' Preschool' ' 12th']\n",
      "marital-status-->[' Never-married' ' Married-civ-spouse' ' Divorced'\n",
      " ' Married-spouse-absent' ' Separated' ' Married-AF-spouse' ' Widowed']\n",
      "occupation-->[' Adm-clerical' ' Exec-managerial' ' Handlers-cleaners' ' Prof-specialty'\n",
      " ' Other-service' ' Sales' ' Craft-repair' ' Transport-moving'\n",
      " ' Farming-fishing' ' Machine-op-inspct' ' Tech-support'\n",
      " ' Protective-serv' ' Armed-Forces' ' Priv-house-serv']\n",
      "relationship-->[' Not-in-family' ' Husband' ' Wife' ' Own-child' ' Unmarried'\n",
      " ' Other-relative']\n",
      "race-->[' White' ' Black' ' Asian-Pac-Islander' ' Amer-Indian-Eskimo' ' Other']\n",
      "sex-->[' Male' ' Female']\n",
      "country-->[' United-States' ' Cuba' ' Jamaica' ' India' ' Mexico' ' South'\n",
      " ' Puerto-Rico' ' Honduras' ' England' ' Canada' ' Germany' ' Iran'\n",
      " ' Philippines' ' Italy' ' Poland' ' Columbia' ' Cambodia' ' Thailand'\n",
      " ' Ecuador' ' Laos' ' Taiwan' ' Haiti' ' Portugal' ' Dominican-Republic'\n",
      " ' El-Salvador' ' France' ' Guatemala' ' China' ' Japan' ' Yugoslavia'\n",
      " ' Peru' ' Outlying-US(Guam-USVI-etc)' ' Scotland' ' Trinadad&Tobago'\n",
      " ' Greece' ' Nicaragua' ' Vietnam' ' Hong' ' Ireland' ' Hungary'\n",
      " ' Holand-Netherlands']\n"
     ]
    }
   ],
   "source": [
    "for i in df[cat_cols]:\n",
    "    print(f'{i}-->{df[i].unique()}')"
   ]
  },
  {
   "cell_type": "markdown",
   "id": "ddaf8beb-cf27-4579-bad2-3755dddbc73a",
   "metadata": {},
   "source": [
    "Encoding categorical features and scaling numerical features using ColumnTransformer"
   ]
  },
  {
   "cell_type": "code",
   "execution_count": 32,
   "id": "6d20a241-4783-478d-9c53-ac1aee9feba2",
   "metadata": {},
   "outputs": [],
   "source": [
    "# Use LabelEncoder for categorical variables and StandardScaler for numerical variables\n",
    "preprocessor= ColumnTransformer(\n",
    "    transformers=[\n",
    "        ('num',StandardScaler(),num_cols1),\n",
    "        ('cat',OneHotEncoder(handle_unknown='ignore'),cat_cols)\n",
    " ])"
   ]
  },
  {
   "cell_type": "markdown",
   "id": "abb5fdd9-318d-49b7-8116-60225b85db36",
   "metadata": {},
   "source": [
    "Use Pipeline for consistent transformation of both preprocessing and modeling"
   ]
  },
  {
   "cell_type": "code",
   "execution_count": 33,
   "id": "a31790a0-28fb-46f0-bf50-0b1b5e1dc8ab",
   "metadata": {},
   "outputs": [],
   "source": [
    "pipeline= Pipeline(steps=[('preprocessor',preprocessor)])"
   ]
  },
  {
   "cell_type": "code",
   "execution_count": 29,
   "id": "ae9b66e9-a916-4346-b2ad-5da76588572c",
   "metadata": {},
   "outputs": [],
   "source": [
    "# import pickle\n",
    "# pickle.dump(pipeline,open('pipeline.pkl','wb'))"
   ]
  },
  {
   "cell_type": "markdown",
   "id": "c9c8f46b-785d-4edc-904d-059c7ddfc50d",
   "metadata": {},
   "source": [
    "Defining X and y"
   ]
  },
  {
   "cell_type": "code",
   "execution_count": 34,
   "id": "984685d1-9825-4dad-9d6f-e91f7f5b75c4",
   "metadata": {},
   "outputs": [],
   "source": [
    "X= df.drop(columns=['salary'],axis=1)\n",
    "y= df['salary']"
   ]
  },
  {
   "cell_type": "markdown",
   "id": "0178d556",
   "metadata": {},
   "source": [
    "\n",
    "Splitting dataset into traning and testing datasets"
   ]
  },
  {
   "cell_type": "code",
   "execution_count": 35,
   "id": "c904d593-f202-4981-a86a-f5ec4a752c09",
   "metadata": {},
   "outputs": [],
   "source": [
    "X_train, X_test, y_train, y_test= train_test_split(X,y,test_size=0.2,random_state=42)"
   ]
  },
  {
   "cell_type": "markdown",
   "id": "f62362c9-010d-4e8f-a690-49a4f3165535",
   "metadata": {},
   "source": [
    "Applying the transformations"
   ]
  },
  {
   "cell_type": "code",
   "execution_count": 36,
   "id": "aab031d9-1b09-455b-a7d2-75330c4d0fe5",
   "metadata": {},
   "outputs": [],
   "source": [
    "X_train_transformed= pipeline.fit_transform(X_train)\n",
    "X_test_transformed= pipeline.transform(X_test)"
   ]
  },
  {
   "cell_type": "markdown",
   "id": "7c2e3dac",
   "metadata": {},
   "source": [
    "Applying SMOTE"
   ]
  },
  {
   "cell_type": "code",
   "execution_count": 38,
   "id": "1fa5964e",
   "metadata": {},
   "outputs": [],
   "source": [
    "from imblearn.over_sampling import SMOTE\n",
    "\n",
    "# Apply SMOTE to the transformed training set\n",
    "smote = SMOTE(random_state=42)\n",
    "X_train_resampled, y_train_resampled = smote.fit_resample(X_train_transformed, y_train)"
   ]
  },
  {
   "cell_type": "markdown",
   "id": "08779bfc-426c-4271-957c-2304cee8eaff",
   "metadata": {},
   "source": [
    "### Model Training"
   ]
  },
  {
   "cell_type": "code",
   "execution_count": 45,
   "id": "f3a0fb83-3ba9-4d19-bdec-f89cae8d01f9",
   "metadata": {},
   "outputs": [],
   "source": [
    "from sklearn.metrics import accuracy_score\n",
    "from sklearn.linear_model import LogisticRegression\n",
    "from sklearn.tree import DecisionTreeClassifier\n",
    "from sklearn.ensemble import RandomForestClassifier, GradientBoostingClassifier\n",
    "from sklearn.svm import SVC\n",
    "from sklearn.neighbors import KNeighborsClassifier\n",
    "from sklearn.naive_bayes import GaussianNB\n",
    "from sklearn.ensemble import AdaBoostClassifier\n",
    "\n",
    "def evaluate(modelname):\n",
    "    model = modelname\n",
    "    model.fit(X_train_resampled,y_train_resampled)\n",
    "    y_train_pred= model.predict(X_train_resampled)\n",
    "    y_test_pred= model.predict(X_test_transformed)\n",
    "    accuracy_train= accuracy_score(y_train_resampled,y_train_pred)\n",
    "    accuracy_test= accuracy_score(y_test,y_test_pred)\n",
    "\n",
    "    return accuracy_train,accuracy_test\n",
    "\n",
    "models={\n",
    "\"Logistic Regression\": LogisticRegression(max_iter=200),\n",
    "\"Decision Tree\": DecisionTreeClassifier(),\n",
    "\"Random Forest\": RandomForestClassifier(),\n",
    "\"SVM\": SVC(),\n",
    "\"K-Nearest Neighbors\": KNeighborsClassifier(),\n",
    "\"Gradient Boosting\": GradientBoostingClassifier(),\n",
    "\"AdaBoost\": AdaBoostClassifier()\n",
    "}\n",
    "\n",
    "def model_evaluation(model_dict):\n",
    "    model_names=model_dict.keys()\n",
    "    model_list= list(model_dict.values())\n",
    "    accuracy_scores_train=[]\n",
    "    accuracy_scores_test=[]\n",
    "    for i in model_list:\n",
    "        accuracy_train,accuracy_test= evaluate(i)\n",
    "        accuracy_scores_train.append(accuracy_train)\n",
    "        accuracy_scores_test.append(accuracy_test)\n",
    "        print(f'for {i} model parameters are:')\n",
    "        print(f'accuracy train:{accuracy_train}')\n",
    "        print(f'accuracy test:{accuracy_test}')\n",
    "        print('------------------------------------------------------------------')\n",
    "    dict={'Model names': model_names,'Training accuracy score':accuracy_scores_train,'Testing accuracy score': accuracy_scores_test}\n",
    "    df=pd.DataFrame(dict)\n",
    "    df=df.sort_values(by=['Testing accuracy score'],ascending=False)\n",
    "    return df"
   ]
  },
  {
   "cell_type": "code",
   "execution_count": 47,
   "id": "8454785c-4a52-4fe8-a7f0-7c45b5ea844d",
   "metadata": {},
   "outputs": [
    {
     "name": "stderr",
     "output_type": "stream",
     "text": [
      "C:\\Users\\sharm\\anaconda3\\Lib\\site-packages\\sklearn\\linear_model\\_logistic.py:458: ConvergenceWarning: lbfgs failed to converge (status=1):\n",
      "STOP: TOTAL NO. of ITERATIONS REACHED LIMIT.\n",
      "\n",
      "Increase the number of iterations (max_iter) or scale the data as shown in:\n",
      "    https://scikit-learn.org/stable/modules/preprocessing.html\n",
      "Please also refer to the documentation for alternative solver options:\n",
      "    https://scikit-learn.org/stable/modules/linear_model.html#logistic-regression\n",
      "  n_iter_i = _check_optimize_result(\n"
     ]
    },
    {
     "name": "stdout",
     "output_type": "stream",
     "text": [
      "for LogisticRegression(max_iter=200) model parameters are:\n",
      "accuracy train:0.8440969687656076\n",
      "accuracy test:0.8477258758451137\n",
      "------------------------------------------------------------------\n",
      "for DecisionTreeClassifier() model parameters are:\n",
      "accuracy train:0.9999615813131507\n",
      "accuracy test:0.8166871542716656\n",
      "------------------------------------------------------------------\n",
      "for RandomForestClassifier() model parameters are:\n",
      "accuracy train:0.9999615813131507\n",
      "accuracy test:0.8538721573448064\n",
      "------------------------------------------------------------------\n",
      "for SVC() model parameters are:\n",
      "accuracy train:0.8619232394636751\n",
      "accuracy test:0.8469575906576521\n",
      "------------------------------------------------------------------\n",
      "for KNeighborsClassifier() model parameters are:\n",
      "accuracy train:0.8787890429905106\n",
      "accuracy test:0.8312845728334358\n",
      "------------------------------------------------------------------\n",
      "for GradientBoostingClassifier() model parameters are:\n",
      "accuracy train:0.8676860424910676\n",
      "accuracy test:0.8686232329440688\n",
      "------------------------------------------------------------------\n",
      "for AdaBoostClassifier() model parameters are:\n",
      "accuracy train:0.860424910676553\n",
      "accuracy test:0.8621696373693916\n",
      "------------------------------------------------------------------\n"
     ]
    },
    {
     "data": {
      "text/html": [
       "<div>\n",
       "<style scoped>\n",
       "    .dataframe tbody tr th:only-of-type {\n",
       "        vertical-align: middle;\n",
       "    }\n",
       "\n",
       "    .dataframe tbody tr th {\n",
       "        vertical-align: top;\n",
       "    }\n",
       "\n",
       "    .dataframe thead th {\n",
       "        text-align: right;\n",
       "    }\n",
       "</style>\n",
       "<table border=\"1\" class=\"dataframe\">\n",
       "  <thead>\n",
       "    <tr style=\"text-align: right;\">\n",
       "      <th></th>\n",
       "      <th>Model names</th>\n",
       "      <th>Training accuracy score</th>\n",
       "      <th>Testing accuracy score</th>\n",
       "    </tr>\n",
       "  </thead>\n",
       "  <tbody>\n",
       "    <tr>\n",
       "      <th>5</th>\n",
       "      <td>Gradient Boosting</td>\n",
       "      <td>0.867686</td>\n",
       "      <td>0.868623</td>\n",
       "    </tr>\n",
       "    <tr>\n",
       "      <th>6</th>\n",
       "      <td>AdaBoost</td>\n",
       "      <td>0.860425</td>\n",
       "      <td>0.862170</td>\n",
       "    </tr>\n",
       "    <tr>\n",
       "      <th>2</th>\n",
       "      <td>Random Forest</td>\n",
       "      <td>0.999962</td>\n",
       "      <td>0.853872</td>\n",
       "    </tr>\n",
       "    <tr>\n",
       "      <th>0</th>\n",
       "      <td>Logistic Regression</td>\n",
       "      <td>0.844097</td>\n",
       "      <td>0.847726</td>\n",
       "    </tr>\n",
       "    <tr>\n",
       "      <th>3</th>\n",
       "      <td>SVM</td>\n",
       "      <td>0.861923</td>\n",
       "      <td>0.846958</td>\n",
       "    </tr>\n",
       "    <tr>\n",
       "      <th>4</th>\n",
       "      <td>K-Nearest Neighbors</td>\n",
       "      <td>0.878789</td>\n",
       "      <td>0.831285</td>\n",
       "    </tr>\n",
       "    <tr>\n",
       "      <th>1</th>\n",
       "      <td>Decision Tree</td>\n",
       "      <td>0.999962</td>\n",
       "      <td>0.816687</td>\n",
       "    </tr>\n",
       "  </tbody>\n",
       "</table>\n",
       "</div>"
      ],
      "text/plain": [
       "           Model names  Training accuracy score  Testing accuracy score\n",
       "5    Gradient Boosting                 0.867686                0.868623\n",
       "6             AdaBoost                 0.860425                0.862170\n",
       "2        Random Forest                 0.999962                0.853872\n",
       "0  Logistic Regression                 0.844097                0.847726\n",
       "3                  SVM                 0.861923                0.846958\n",
       "4  K-Nearest Neighbors                 0.878789                0.831285\n",
       "1        Decision Tree                 0.999962                0.816687"
      ]
     },
     "execution_count": 47,
     "metadata": {},
     "output_type": "execute_result"
    }
   ],
   "source": [
    "model_evaluation(models)"
   ]
  },
  {
   "cell_type": "markdown",
   "id": "44b23187-578b-4f06-83db-589b3968c010",
   "metadata": {},
   "source": [
    "#### Defining the Baseline model"
   ]
  },
  {
   "cell_type": "code",
   "execution_count": 39,
   "id": "54d63ad8-6afa-41f2-ac2e-f6386c2f7fe5",
   "metadata": {},
   "outputs": [
    {
     "name": "stdout",
     "output_type": "stream",
     "text": [
      "Training accuracy: 0.8733895821755165\n",
      "Testing accuracy 0.8369698832206515\n"
     ]
    }
   ],
   "source": [
    "from sklearn.metrics import accuracy_score\n",
    "from sklearn.ensemble import GradientBoostingClassifier\n",
    "\n",
    "model = GradientBoostingClassifier()\n",
    "model.fit(X_train_resampled,y_train_resampled)\n",
    "y_train_pred= model.predict(X_train_resampled)\n",
    "y_test_pred= model.predict(X_test_transformed)\n",
    "accuracy_train= accuracy_score(y_train_resampled,y_train_pred)\n",
    "accuracy_test= accuracy_score(y_test,y_test_pred)\n",
    "print('Training accuracy:',accuracy_train)\n",
    "print('Testing accuracy',accuracy_test)"
   ]
  },
  {
   "cell_type": "code",
   "execution_count": 40,
   "id": "29fe72c6",
   "metadata": {},
   "outputs": [
    {
     "name": "stdout",
     "output_type": "stream",
     "text": [
      "Training Accuracy: 0.8733895821755165\n",
      "Testing Accuracy: 0.8369698832206515\n"
     ]
    },
    {
     "data": {
      "image/png": "[encoded data removed]",
      "text/plain": [
       "<Figure size 640x480 with 2 Axes>"
      ]
     },
     "metadata": {},
     "output_type": "display_data"
    },
    {
     "name": "stdout",
     "output_type": "stream",
     "text": [
      "\n",
      "Classification Report:\n",
      "               precision    recall  f1-score   support\n",
      "\n",
      "           0       0.94      0.84      0.89      4905\n",
      "           1       0.63      0.83      0.71      1603\n",
      "\n",
      "    accuracy                           0.84      6508\n",
      "   macro avg       0.78      0.83      0.80      6508\n",
      "weighted avg       0.86      0.84      0.84      6508\n",
      "\n",
      "ROC AUC Score: 0.92\n"
     ]
    },
    {
     "data": {
      "image/png": "[encoded data removed]",
      "text/plain": [
       "<Figure size 640x480 with 1 Axes>"
      ]
     },
     "metadata": {},
     "output_type": "display_data"
    }
   ],
   "source": [
    "from sklearn.metrics import accuracy_score, confusion_matrix, classification_report, roc_auc_score, roc_curve\n",
    "import matplotlib.pyplot as plt\n",
    "import seaborn as sns\n",
    "\n",
    "# Fit the Gradient Boosting Classifier\n",
    "model = GradientBoostingClassifier()\n",
    "model.fit(X_train_resampled, y_train_resampled)\n",
    "\n",
    "# Predictions\n",
    "y_train_pred = model.predict(X_train_resampled)\n",
    "y_test_pred = model.predict(X_test_transformed)\n",
    "\n",
    "# Accuracy\n",
    "accuracy_train = accuracy_score(y_train_resampled, y_train_pred)\n",
    "accuracy_test = accuracy_score(y_test, y_test_pred)\n",
    "\n",
    "print('Training Accuracy:', accuracy_train)\n",
    "print('Testing Accuracy:', accuracy_test)\n",
    "\n",
    "# Confusion Matrix\n",
    "conf_matrix = confusion_matrix(y_test, y_test_pred)\n",
    "sns.heatmap(conf_matrix, annot=True, fmt='d', cmap='Blues')\n",
    "plt.title('Confusion Matrix')\n",
    "plt.xlabel('Predicted Label')\n",
    "plt.ylabel('True Label')\n",
    "plt.show()\n",
    "\n",
    "# Classification Report\n",
    "print(\"\\nClassification Report:\\n\", classification_report(y_test, y_test_pred))\n",
    "\n",
    "# ROC AUC Score and Curve\n",
    "y_test_proba = model.predict_proba(X_test_transformed)[:, 1]  # Get probabilities for the positive class\n",
    "roc_auc = roc_auc_score(y_test, y_test_proba)\n",
    "fpr, tpr, thresholds = roc_curve(y_test, y_test_proba)\n",
    "\n",
    "print(f\"ROC AUC Score: {roc_auc:.2f}\")\n",
    "\n",
    "plt.figure()\n",
    "plt.plot(fpr, tpr, label=f\"ROC Curve (AUC = {roc_auc:.2f})\", color=\"blue\")\n",
    "plt.plot([0, 1], [0, 1], \"k--\", label=\"Random Guess\")\n",
    "plt.title(\"ROC Curve\")\n",
    "plt.xlabel(\"False Positive Rate\")\n",
    "plt.ylabel(\"True Positive Rate\")\n",
    "plt.legend(loc=\"lower right\")\n",
    "plt.grid()\n",
    "plt.show()"
   ]
  },
  {
   "cell_type": "code",
   "execution_count": 41,
   "id": "62d1e9b1",
   "metadata": {},
   "outputs": [
    {
     "data": {
      "text/plain": [
       "array([[4124,  781],\n",
       "       [ 280, 1323]], dtype=int64)"
      ]
     },
     "execution_count": 41,
     "metadata": {},
     "output_type": "execute_result"
    }
   ],
   "source": [
    "conf_matrix"
   ]
  },
  {
   "cell_type": "markdown",
   "id": "ba9e31f7-8feb-451a-9247-c474e53dc3f9",
   "metadata": {},
   "source": [
    "#### GridSearchCV for hyperparameter tuning"
   ]
  },
  {
   "cell_type": "code",
   "execution_count": 29,
   "id": "2989fc85-916a-4a5b-a0cb-5cd74fe81c40",
   "metadata": {},
   "outputs": [
    {
     "name": "stdout",
     "output_type": "stream",
     "text": [
      "Fitting 3 folds for each of 972 candidates, totalling 2916 fits\n"
     ]
    },
    {
     "name": "stderr",
     "output_type": "stream",
     "text": [
      "C:\\Users\\sharm\\anaconda3\\Lib\\site-packages\\sklearn\\model_selection\\_validation.py:378: FitFailedWarning: \n",
      "3 fits failed out of a total of 2916.\n",
      "The score on these train-test partitions for these parameters will be set to nan.\n",
      "If these failures are not expected, you can try to debug them by setting error_score='raise'.\n",
      "\n",
      "Below are more details about the failures:\n",
      "--------------------------------------------------------------------------------\n",
      "1 fits failed with the following error:\n",
      "Traceback (most recent call last):\n",
      "  File \"C:\\Users\\sharm\\anaconda3\\Lib\\site-packages\\sklearn\\model_selection\\_validation.py\", line 686, in _fit_and_score\n",
      "    estimator.fit(X_train, y_train, **fit_params)\n",
      "  File \"C:\\Users\\sharm\\anaconda3\\Lib\\site-packages\\xgboost\\core.py\", line 726, in inner_f\n",
      "    return func(**kwargs)\n",
      "           ^^^^^^^^^^^^^^\n",
      "  File \"C:\\Users\\sharm\\anaconda3\\Lib\\site-packages\\xgboost\\sklearn.py\", line 1512, in fit\n",
      "    train_dmatrix, evals = _wrap_evaluation_matrices(\n",
      "                           ^^^^^^^^^^^^^^^^^^^^^^^^^^\n",
      "  File \"C:\\Users\\sharm\\anaconda3\\Lib\\site-packages\\xgboost\\sklearn.py\", line 596, in _wrap_evaluation_matrices\n",
      "    train_dmatrix = create_dmatrix(\n",
      "                    ^^^^^^^^^^^^^^^\n",
      "  File \"C:\\Users\\sharm\\anaconda3\\Lib\\site-packages\\xgboost\\sklearn.py\", line 1003, in _create_dmatrix\n",
      "    return QuantileDMatrix(\n",
      "           ^^^^^^^^^^^^^^^^\n",
      "  File \"C:\\Users\\sharm\\anaconda3\\Lib\\site-packages\\xgboost\\core.py\", line 726, in inner_f\n",
      "    return func(**kwargs)\n",
      "           ^^^^^^^^^^^^^^\n",
      "  File \"C:\\Users\\sharm\\anaconda3\\Lib\\site-packages\\xgboost\\core.py\", line 1573, in __init__\n",
      "    self._init(\n",
      "  File \"C:\\Users\\sharm\\anaconda3\\Lib\\site-packages\\xgboost\\core.py\", line 1632, in _init\n",
      "    it.reraise()\n",
      "  File \"C:\\Users\\sharm\\anaconda3\\Lib\\site-packages\\xgboost\\core.py\", line 569, in reraise\n",
      "    raise exc  # pylint: disable=raising-bad-type\n",
      "    ^^^^^^^^^\n",
      "  File \"C:\\Users\\sharm\\anaconda3\\Lib\\site-packages\\xgboost\\core.py\", line 550, in _handle_exception\n",
      "    return fn()\n",
      "           ^^^^\n",
      "  File \"C:\\Users\\sharm\\anaconda3\\Lib\\site-packages\\xgboost\\core.py\", line 637, in <lambda>\n",
      "    return self._handle_exception(lambda: self.next(input_data), 0)\n",
      "                                          ^^^^^^^^^^^^^^^^^^^^^\n",
      "  File \"C:\\Users\\sharm\\anaconda3\\Lib\\site-packages\\xgboost\\data.py\", line 1416, in next\n",
      "    input_data(**self.kwargs)\n",
      "  File \"C:\\Users\\sharm\\anaconda3\\Lib\\site-packages\\xgboost\\core.py\", line 726, in inner_f\n",
      "    return func(**kwargs)\n",
      "           ^^^^^^^^^^^^^^\n",
      "  File \"C:\\Users\\sharm\\anaconda3\\Lib\\site-packages\\xgboost\\core.py\", line 626, in input_data\n",
      "    self.proxy.set_info(\n",
      "  File \"C:\\Users\\sharm\\anaconda3\\Lib\\site-packages\\xgboost\\core.py\", line 726, in inner_f\n",
      "    return func(**kwargs)\n",
      "           ^^^^^^^^^^^^^^\n",
      "  File \"C:\\Users\\sharm\\anaconda3\\Lib\\site-packages\\xgboost\\core.py\", line 954, in set_info\n",
      "    self.set_label(label)\n",
      "  File \"C:\\Users\\sharm\\anaconda3\\Lib\\site-packages\\xgboost\\core.py\", line 1092, in set_label\n",
      "    dispatch_meta_backend(self, label, \"label\", \"float\")\n",
      "  File \"C:\\Users\\sharm\\anaconda3\\Lib\\site-packages\\xgboost\\data.py\", line 1362, in dispatch_meta_backend\n",
      "    _meta_from_pandas_series(data, name, dtype, handle)\n",
      "  File \"C:\\Users\\sharm\\anaconda3\\Lib\\site-packages\\xgboost\\data.py\", line 679, in _meta_from_pandas_series\n",
      "    _meta_from_numpy(data, name, dtype, handle)\n",
      "  File \"C:\\Users\\sharm\\anaconda3\\Lib\\site-packages\\xgboost\\data.py\", line 1295, in _meta_from_numpy\n",
      "    _check_call(_LIB.XGDMatrixSetInfoFromInterface(handle, c_str(field), interface_str))\n",
      "  File \"C:\\Users\\sharm\\anaconda3\\Lib\\site-packages\\xgboost\\core.py\", line 284, in _check_call\n",
      "    raise XGBoostError(py_str(_LIB.XGBGetLastError()))\n",
      "xgboost.core.XGBoostError: [05:51:31] C:\\buildkite-agent\\builds\\buildkite-windows-cpu-autoscaling-group-i-0015a694724fa8361-1\\xgboost\\xgboost-ci-windows\\src\\data\\array_interface.cu:44: Check failed: err == cudaGetLastError() (0 vs. 46) : \n",
      "\n",
      "--------------------------------------------------------------------------------\n",
      "1 fits failed with the following error:\n",
      "Traceback (most recent call last):\n",
      "  File \"C:\\Users\\sharm\\anaconda3\\Lib\\site-packages\\sklearn\\model_selection\\_validation.py\", line 686, in _fit_and_score\n",
      "    estimator.fit(X_train, y_train, **fit_params)\n",
      "  File \"C:\\Users\\sharm\\anaconda3\\Lib\\site-packages\\xgboost\\core.py\", line 726, in inner_f\n",
      "    return func(**kwargs)\n",
      "           ^^^^^^^^^^^^^^\n",
      "  File \"C:\\Users\\sharm\\anaconda3\\Lib\\site-packages\\xgboost\\sklearn.py\", line 1512, in fit\n",
      "    train_dmatrix, evals = _wrap_evaluation_matrices(\n",
      "                           ^^^^^^^^^^^^^^^^^^^^^^^^^^\n",
      "  File \"C:\\Users\\sharm\\anaconda3\\Lib\\site-packages\\xgboost\\sklearn.py\", line 596, in _wrap_evaluation_matrices\n",
      "    train_dmatrix = create_dmatrix(\n",
      "                    ^^^^^^^^^^^^^^^\n",
      "  File \"C:\\Users\\sharm\\anaconda3\\Lib\\site-packages\\xgboost\\sklearn.py\", line 1003, in _create_dmatrix\n",
      "    return QuantileDMatrix(\n",
      "           ^^^^^^^^^^^^^^^^\n",
      "  File \"C:\\Users\\sharm\\anaconda3\\Lib\\site-packages\\xgboost\\core.py\", line 726, in inner_f\n",
      "    return func(**kwargs)\n",
      "           ^^^^^^^^^^^^^^\n",
      "  File \"C:\\Users\\sharm\\anaconda3\\Lib\\site-packages\\xgboost\\core.py\", line 1573, in __init__\n",
      "    self._init(\n",
      "  File \"C:\\Users\\sharm\\anaconda3\\Lib\\site-packages\\xgboost\\core.py\", line 1632, in _init\n",
      "    it.reraise()\n",
      "  File \"C:\\Users\\sharm\\anaconda3\\Lib\\site-packages\\xgboost\\core.py\", line 569, in reraise\n",
      "    raise exc  # pylint: disable=raising-bad-type\n",
      "    ^^^^^^^^^\n",
      "  File \"C:\\Users\\sharm\\anaconda3\\Lib\\site-packages\\xgboost\\core.py\", line 550, in _handle_exception\n",
      "    return fn()\n",
      "           ^^^^\n",
      "  File \"C:\\Users\\sharm\\anaconda3\\Lib\\site-packages\\xgboost\\core.py\", line 637, in <lambda>\n",
      "    return self._handle_exception(lambda: self.next(input_data), 0)\n",
      "                                          ^^^^^^^^^^^^^^^^^^^^^\n",
      "  File \"C:\\Users\\sharm\\anaconda3\\Lib\\site-packages\\xgboost\\data.py\", line 1416, in next\n",
      "    input_data(**self.kwargs)\n",
      "  File \"C:\\Users\\sharm\\anaconda3\\Lib\\site-packages\\xgboost\\core.py\", line 726, in inner_f\n",
      "    return func(**kwargs)\n",
      "           ^^^^^^^^^^^^^^\n",
      "  File \"C:\\Users\\sharm\\anaconda3\\Lib\\site-packages\\xgboost\\core.py\", line 626, in input_data\n",
      "    self.proxy.set_info(\n",
      "  File \"C:\\Users\\sharm\\anaconda3\\Lib\\site-packages\\xgboost\\core.py\", line 726, in inner_f\n",
      "    return func(**kwargs)\n",
      "           ^^^^^^^^^^^^^^\n",
      "  File \"C:\\Users\\sharm\\anaconda3\\Lib\\site-packages\\xgboost\\core.py\", line 954, in set_info\n",
      "    self.set_label(label)\n",
      "  File \"C:\\Users\\sharm\\anaconda3\\Lib\\site-packages\\xgboost\\core.py\", line 1092, in set_label\n",
      "    dispatch_meta_backend(self, label, \"label\", \"float\")\n",
      "  File \"C:\\Users\\sharm\\anaconda3\\Lib\\site-packages\\xgboost\\data.py\", line 1362, in dispatch_meta_backend\n",
      "    _meta_from_pandas_series(data, name, dtype, handle)\n",
      "  File \"C:\\Users\\sharm\\anaconda3\\Lib\\site-packages\\xgboost\\data.py\", line 679, in _meta_from_pandas_series\n",
      "    _meta_from_numpy(data, name, dtype, handle)\n",
      "  File \"C:\\Users\\sharm\\anaconda3\\Lib\\site-packages\\xgboost\\data.py\", line 1295, in _meta_from_numpy\n",
      "    _check_call(_LIB.XGDMatrixSetInfoFromInterface(handle, c_str(field), interface_str))\n",
      "  File \"C:\\Users\\sharm\\anaconda3\\Lib\\site-packages\\xgboost\\core.py\", line 284, in _check_call\n",
      "    raise XGBoostError(py_str(_LIB.XGBGetLastError()))\n",
      "xgboost.core.XGBoostError: [05:51:33] C:\\buildkite-agent\\builds\\buildkite-windows-cpu-autoscaling-group-i-0015a694724fa8361-1\\xgboost\\xgboost-ci-windows\\src\\data\\array_interface.cu:44: Check failed: err == cudaGetLastError() (0 vs. 46) : \n",
      "\n",
      "--------------------------------------------------------------------------------\n",
      "1 fits failed with the following error:\n",
      "Traceback (most recent call last):\n",
      "  File \"C:\\Users\\sharm\\anaconda3\\Lib\\site-packages\\sklearn\\model_selection\\_validation.py\", line 686, in _fit_and_score\n",
      "    estimator.fit(X_train, y_train, **fit_params)\n",
      "  File \"C:\\Users\\sharm\\anaconda3\\Lib\\site-packages\\xgboost\\core.py\", line 726, in inner_f\n",
      "    return func(**kwargs)\n",
      "           ^^^^^^^^^^^^^^\n",
      "  File \"C:\\Users\\sharm\\anaconda3\\Lib\\site-packages\\xgboost\\sklearn.py\", line 1512, in fit\n",
      "    train_dmatrix, evals = _wrap_evaluation_matrices(\n",
      "                           ^^^^^^^^^^^^^^^^^^^^^^^^^^\n",
      "  File \"C:\\Users\\sharm\\anaconda3\\Lib\\site-packages\\xgboost\\sklearn.py\", line 596, in _wrap_evaluation_matrices\n",
      "    train_dmatrix = create_dmatrix(\n",
      "                    ^^^^^^^^^^^^^^^\n",
      "  File \"C:\\Users\\sharm\\anaconda3\\Lib\\site-packages\\xgboost\\sklearn.py\", line 1003, in _create_dmatrix\n",
      "    return QuantileDMatrix(\n",
      "           ^^^^^^^^^^^^^^^^\n",
      "  File \"C:\\Users\\sharm\\anaconda3\\Lib\\site-packages\\xgboost\\core.py\", line 726, in inner_f\n",
      "    return func(**kwargs)\n",
      "           ^^^^^^^^^^^^^^\n",
      "  File \"C:\\Users\\sharm\\anaconda3\\Lib\\site-packages\\xgboost\\core.py\", line 1573, in __init__\n",
      "    self._init(\n",
      "  File \"C:\\Users\\sharm\\anaconda3\\Lib\\site-packages\\xgboost\\core.py\", line 1632, in _init\n",
      "    it.reraise()\n",
      "  File \"C:\\Users\\sharm\\anaconda3\\Lib\\site-packages\\xgboost\\core.py\", line 569, in reraise\n",
      "    raise exc  # pylint: disable=raising-bad-type\n",
      "    ^^^^^^^^^\n",
      "  File \"C:\\Users\\sharm\\anaconda3\\Lib\\site-packages\\xgboost\\core.py\", line 550, in _handle_exception\n",
      "    return fn()\n",
      "           ^^^^\n",
      "  File \"C:\\Users\\sharm\\anaconda3\\Lib\\site-packages\\xgboost\\core.py\", line 637, in <lambda>\n",
      "    return self._handle_exception(lambda: self.next(input_data), 0)\n",
      "                                          ^^^^^^^^^^^^^^^^^^^^^\n",
      "  File \"C:\\Users\\sharm\\anaconda3\\Lib\\site-packages\\xgboost\\data.py\", line 1416, in next\n",
      "    input_data(**self.kwargs)\n",
      "  File \"C:\\Users\\sharm\\anaconda3\\Lib\\site-packages\\xgboost\\core.py\", line 726, in inner_f\n",
      "    return func(**kwargs)\n",
      "           ^^^^^^^^^^^^^^\n",
      "  File \"C:\\Users\\sharm\\anaconda3\\Lib\\site-packages\\xgboost\\core.py\", line 626, in input_data\n",
      "    self.proxy.set_info(\n",
      "  File \"C:\\Users\\sharm\\anaconda3\\Lib\\site-packages\\xgboost\\core.py\", line 726, in inner_f\n",
      "    return func(**kwargs)\n",
      "           ^^^^^^^^^^^^^^\n",
      "  File \"C:\\Users\\sharm\\anaconda3\\Lib\\site-packages\\xgboost\\core.py\", line 954, in set_info\n",
      "    self.set_label(label)\n",
      "  File \"C:\\Users\\sharm\\anaconda3\\Lib\\site-packages\\xgboost\\core.py\", line 1092, in set_label\n",
      "    dispatch_meta_backend(self, label, \"label\", \"float\")\n",
      "  File \"C:\\Users\\sharm\\anaconda3\\Lib\\site-packages\\xgboost\\data.py\", line 1362, in dispatch_meta_backend\n",
      "    _meta_from_pandas_series(data, name, dtype, handle)\n",
      "  File \"C:\\Users\\sharm\\anaconda3\\Lib\\site-packages\\xgboost\\data.py\", line 679, in _meta_from_pandas_series\n",
      "    _meta_from_numpy(data, name, dtype, handle)\n",
      "  File \"C:\\Users\\sharm\\anaconda3\\Lib\\site-packages\\xgboost\\data.py\", line 1295, in _meta_from_numpy\n",
      "    _check_call(_LIB.XGDMatrixSetInfoFromInterface(handle, c_str(field), interface_str))\n",
      "  File \"C:\\Users\\sharm\\anaconda3\\Lib\\site-packages\\xgboost\\core.py\", line 284, in _check_call\n",
      "    raise XGBoostError(py_str(_LIB.XGBGetLastError()))\n",
      "xgboost.core.XGBoostError: [05:51:36] C:\\buildkite-agent\\builds\\buildkite-windows-cpu-autoscaling-group-i-0015a694724fa8361-1\\xgboost\\xgboost-ci-windows\\src\\data\\array_interface.cu:44: Check failed: err == cudaGetLastError() (0 vs. 46) : \n",
      "\n",
      "  warnings.warn(some_fits_failed_message, FitFailedWarning)\n",
      "C:\\Users\\sharm\\anaconda3\\Lib\\site-packages\\sklearn\\model_selection\\_search.py:952: UserWarning: One or more of the test scores are non-finite: [       nan        nan 0.82288981 0.8208151  0.84778507 0.84713193\n",
      " 0.79038779 0.79057999 0.82285139 0.82069985 0.84782349 0.84701668\n",
      " 0.79027253 0.78954265 0.82292823 0.82073827 0.84832295 0.84697826\n",
      " 0.80368043 0.80475617 0.84413541 0.84375124 0.85612203 0.85616043\n",
      " 0.80364199 0.8046409  0.84425067 0.84325185 0.85573782 0.85585307\n",
      " 0.80368041 0.80467933 0.84378967 0.84248347 0.85516155 0.85535363\n",
      " 0.80613926 0.80840593 0.85058974 0.85001347 0.85988712 0.85888826\n",
      " 0.80525559 0.80706129 0.85028239 0.85005188 0.85900348 0.8588114\n",
      " 0.8054477  0.80594716 0.85005191 0.85024398 0.85811986 0.85773566\n",
      " 0.85704405 0.85600673 0.86292218 0.86234589 0.86768615 0.86614938\n",
      " 0.85654458 0.85531517 0.86215378 0.86200013 0.86699461 0.86634149\n",
      " 0.8567367  0.85650618 0.86311426 0.86165437 0.86768612 0.86676409\n",
      " 0.86538108 0.86376746 0.87095182 0.87091337 0.87148973 0.87275751\n",
      " 0.86434374 0.86407476 0.87072131 0.87122068 0.87183542 0.87279592\n",
      " 0.86422846 0.86407475 0.86880026 0.87052913 0.87006815 0.87095181\n",
      " 0.86918453 0.86972233 0.87245015 0.87260383 0.87195076 0.87195076\n",
      " 0.86887717 0.86876186 0.87122075 0.87129759 0.87022187 0.87075976\n",
      " 0.8677246  0.86953023 0.87152814 0.87168178 0.87006815 0.872527\n",
      " 0.86203863 0.86315276 0.86972237 0.86976074 0.87125915 0.87079806\n",
      " 0.86280696 0.86319112 0.86929968 0.86945341 0.87091336 0.87060596\n",
      " 0.86223068 0.86249963 0.86968391 0.87052913 0.87045232 0.87087491\n",
      " 0.87068283 0.87114391 0.87029868 0.87306488 0.86929985 0.8726807\n",
      " 0.87068282 0.86976074 0.87033706 0.87183544 0.86883874 0.87195074\n",
      " 0.86906925 0.87145119 0.86983762 0.87202752 0.86895404 0.87099021\n",
      " 0.87068291 0.87198909 0.86872355 0.87202757 0.86530431 0.87075981\n",
      " 0.86976089 0.87210438 0.86849306 0.87049085 0.86661047 0.86768633\n",
      " 0.87029869 0.87026031 0.86860828 0.87064451 0.86576535 0.87049086\n",
      " 0.79092564 0.79107943 0.82288981 0.8208151  0.84778507 0.84713193\n",
      " 0.79038779 0.79046473 0.82285139 0.82069985 0.84782349 0.84701668\n",
      " 0.79027253 0.78954265 0.82292823 0.82073827 0.84832295 0.84697826\n",
      " 0.80371885 0.80475617 0.84405857 0.84375124 0.85616044 0.85558413\n",
      " 0.80364199 0.80467932 0.84425067 0.84321343 0.85573782 0.85585307\n",
      " 0.80371883 0.80467933 0.84378967 0.84248347 0.85523839 0.85535363\n",
      " 0.80598558 0.80844435 0.85039764 0.85051292 0.8596566  0.85911876\n",
      " 0.80529401 0.80694604 0.8502824  0.8498982  0.85900348 0.85854247\n",
      " 0.80548612 0.80606241 0.85009033 0.85035924 0.85815828 0.85792775\n",
      " 0.85704405 0.85600673 0.8631527  0.86257639 0.86780141 0.86618777\n",
      " 0.85654458 0.85531517 0.86192326 0.86215381 0.86745564 0.86607254\n",
      " 0.8567367  0.85650618 0.86315268 0.86257639 0.86780139 0.86668724\n",
      " 0.86530424 0.86472792 0.87129759 0.87114387 0.87218125 0.8728727\n",
      " 0.86480478 0.8636906  0.87125911 0.87106699 0.87179704 0.87160491\n",
      " 0.8646511  0.86299903 0.87026024 0.87014497 0.87079816 0.87241166\n",
      " 0.86976083 0.86906925 0.87225801 0.87229647 0.87214279 0.87306488\n",
      " 0.86953026 0.8689924  0.87141281 0.87156651 0.87068292 0.87145125\n",
      " 0.8686082  0.86868505 0.87179701 0.87160495 0.86999136 0.87114391\n",
      " 0.86165443 0.86330642 0.86991447 0.86949183 0.87175861 0.87102861\n",
      " 0.86276854 0.86273008 0.86937651 0.87029859 0.87129752 0.87122067\n",
      " 0.86203858 0.86284535 0.86918444 0.86891551 0.87056755 0.87179692\n",
      " 0.87160493 0.87041396 0.87152811 0.87252696 0.86972253 0.87256539\n",
      " 0.86968394 0.87056756 0.87137437 0.87172015 0.86791673 0.87079818\n",
      " 0.87029864 0.87049076 0.87010657 0.87218119 0.86891563 0.87168182\n",
      " 0.87018349 0.87183541 0.86841624 0.87175865 0.86453597 0.86937679\n",
      " 0.86922299 0.87029875 0.86883888 0.86906935 0.86749411 0.86895409\n",
      " 0.8696456  0.87183546 0.86764786 0.87029874 0.86507382 0.86953034\n",
      " 0.79092564 0.79107943 0.82288981 0.8208151  0.84778507 0.84713193\n",
      " 0.79038779 0.79046473 0.82285139 0.82069985 0.84782349 0.84701668\n",
      " 0.79027253 0.78958107 0.82292823 0.82073827 0.84832295 0.84697826\n",
      " 0.80398778 0.80467933 0.84413541 0.84375124 0.85616045 0.85546888\n",
      " 0.80371883 0.80456407 0.84413542 0.84325184 0.85569941 0.85600674\n",
      " 0.80371884 0.80475617 0.84386651 0.84279083 0.85527681 0.85512312\n",
      " 0.80633134 0.80844436 0.85047449 0.85001346 0.86011762 0.85904192\n",
      " 0.80552452 0.80702287 0.85028241 0.85005188 0.85892663 0.8586193\n",
      " 0.80556296 0.80621609 0.85024401 0.85012873 0.85800462 0.85785091\n",
      " 0.85689039 0.85585307 0.8633832  0.86242278 0.86799347 0.8663799\n",
      " 0.85673669 0.85535357 0.86311428 0.86196173 0.86741722 0.86684091\n",
      " 0.85662145 0.85627566 0.86219222 0.8623075  0.86768618 0.8664183\n",
      " 0.86626476 0.86476637 0.87206593 0.87172019 0.87333382 0.87260384\n",
      " 0.8650737  0.86395949 0.87141281 0.87022178 0.87175862 0.87152808\n",
      " 0.86445899 0.86276852 0.87022181 0.87010653 0.87129756 0.87152809\n",
      " 0.86856983 0.8703755  0.87179703 0.87229646 0.87160497 0.87306487\n",
      " 0.86833929 0.86949186 0.8732569  0.87175865 0.87075973 0.87214287\n",
      " 0.86853135 0.8683008  0.8705292  0.87102864 0.86949192 0.8714128\n",
      " 0.86249962 0.86353694 0.86968393 0.86976078 0.87125912 0.87118228\n",
      " 0.86246118 0.86330637 0.869876   0.86899238 0.87152805 0.87102857\n",
      " 0.86280698 0.86246123 0.86933813 0.86960709 0.86972239 0.87052914\n",
      " 0.87014501 0.87118229 0.87172014 0.87287276 0.87010666 0.87233489\n",
      " 0.86953028 0.87026019 0.87033707 0.87168176 0.86929977 0.87195068\n",
      " 0.86826247 0.87118228 0.87052918 0.87210438 0.8699145  0.87183543\n",
      " 0.87037553 0.8721812  0.86822412 0.87133605 0.86599586 0.87133605\n",
      " 0.86895408 0.8714513  0.86887724 0.86945361 0.86549639 0.86945361\n",
      " 0.86926138 0.87079813 0.86760941 0.87010666 0.86599586 0.87010666\n",
      " 0.80137537 0.80206686 0.83902583 0.81524448 0.84647879 0.84636352\n",
      " 0.80145221 0.80210527 0.83737376 0.81516765 0.84647879 0.8465172\n",
      " 0.80145221 0.80210527 0.83902583 0.81516765 0.84667087 0.84644036\n",
      " 0.81224779 0.81320827 0.84813095 0.8465175  0.85466208 0.85508472\n",
      " 0.81290087 0.81305459 0.84778519 0.84663275 0.85446998 0.85470053\n",
      " 0.81347718 0.81397662 0.84770836 0.84613329 0.85393211 0.8540474\n",
      " 0.81712706 0.81820289 0.85024394 0.85039764 0.8582735  0.85850405\n",
      " 0.81693489 0.81712717 0.85012868 0.8497445  0.85762036 0.85804298\n",
      " 0.81735753 0.81804916 0.84947558 0.84859194 0.85677519 0.85677515\n",
      " 0.85700563 0.85642933 0.86322954 0.862999   0.86799349 0.86730192\n",
      " 0.85727457 0.85696722 0.86223064 0.86242274 0.86691777 0.86714826\n",
      " 0.85662143 0.85696726 0.86219222 0.86176962 0.867033   0.86672564\n",
      " 0.86407479 0.86495838 0.87141278 0.87079808 0.87221964 0.87233489\n",
      " 0.86407483 0.86461256 0.87060604 0.87079807 0.87225807 0.87191228\n",
      " 0.86403636 0.8624996  0.87168174 0.86983762 0.87233486 0.87079814\n",
      " 0.86891555 0.86830086 0.8711439  0.8718354  0.87083662 0.87268071\n",
      " 0.86807037 0.86807034 0.87225801 0.87214281 0.87083658 0.87164339\n",
      " 0.86826245 0.86845449 0.87095184 0.87114391 0.87068293 0.87106711\n",
      " 0.86380579 0.86342168 0.86937657 0.8697992  0.87141278 0.87187382\n",
      " 0.86322954 0.86338321 0.86926128 0.87006808 0.87029868 0.87156645\n",
      " 0.86346004 0.86276852 0.86968391 0.86964549 0.87068285 0.87183542\n",
      " 0.86987604 0.87064446 0.86968402 0.87310326 0.86880037 0.87229653\n",
      " 0.87064439 0.87064445 0.86979928 0.87229644 0.87037559 0.87156655\n",
      " 0.86918455 0.86999132 0.86906923 0.87079819 0.86787829 0.87133607\n",
      " 0.87095177 0.87172019 0.86695617 0.87164346 0.86361385 0.86976097\n",
      " 0.87064451 0.87256541 0.86753264 0.87179706 0.86472802 0.87129768\n",
      " 0.8695687  0.87033713 0.86622627 0.87079819 0.86388278 0.86960722\n",
      " 0.80137537 0.80206686 0.83902583 0.81524448 0.84647879 0.84636352\n",
      " 0.80145221 0.80210527 0.83737376 0.81516765 0.84647879 0.8465172\n",
      " 0.80145221 0.80210527 0.83902583 0.81516765 0.84667087 0.84644036\n",
      " 0.81224779 0.81320827 0.84813095 0.84655591 0.85473893 0.85519998\n",
      " 0.81305455 0.81305459 0.84778519 0.84636381 0.85443156 0.85447001\n",
      " 0.81347718 0.81397662 0.84770836 0.84613329 0.85393211 0.85412423\n",
      " 0.81720391 0.81831813 0.85039762 0.85043606 0.85804298 0.8585809\n",
      " 0.81697331 0.81712717 0.84962922 0.84989817 0.8575051  0.85788931\n",
      " 0.81739594 0.81804916 0.84955242 0.84870719 0.85677518 0.85689041\n",
      " 0.85700563 0.85642933 0.86330638 0.862999   0.86730194 0.86730192\n",
      " 0.85723615 0.85700564 0.86153911 0.86230748 0.86730196 0.86726352\n",
      " 0.85662143 0.85704406 0.86219222 0.8621154  0.86691773 0.86676407\n",
      " 0.86442057 0.86465101 0.87129753 0.86995289 0.87248857 0.87256545\n",
      " 0.86442059 0.86322948 0.87087494 0.86987599 0.87291115 0.87198914\n",
      " 0.86384423 0.8627301  0.87079811 0.86979923 0.87187387 0.87075972\n",
      " 0.8688387  0.868224   0.872066   0.87183542 0.87237343 0.87221967\n",
      " 0.86899241 0.86860819 0.87233487 0.87179704 0.87075975 0.87195075\n",
      " 0.86822404 0.8669946  0.87060612 0.86953032 0.86972249 0.86960714\n",
      " 0.86392105 0.86342168 0.86999128 0.87029859 0.8711055  0.87179697\n",
      " 0.86322954 0.86376741 0.86918447 0.87026017 0.86991445 0.87045233\n",
      " 0.86388266 0.86234595 0.86914604 0.86910759 0.87018343 0.87041388\n",
      " 0.87079807 0.87056761 0.87037554 0.87302643 0.86887726 0.8712208\n",
      " 0.87056761 0.87102866 0.87064448 0.87264232 0.86976088 0.87183555\n",
      " 0.86868505 0.86964554 0.8697224  0.87118232 0.86783992 0.87064452\n",
      " 0.87079813 0.87233491 0.86853148 0.87179713 0.86661057 0.87041413\n",
      " 0.86845455 0.87037556 0.86622635 0.86999146 0.86492018 0.86910781\n",
      " 0.86864665 0.87129754 0.86661052 0.86999138 0.86561161 0.86929984\n",
      " 0.80141379 0.80206686 0.83902583 0.81524448 0.84647879 0.84636352\n",
      " 0.80145221 0.80210527 0.83737376 0.81516765 0.84647879 0.8465172\n",
      " 0.80145221 0.80210527 0.83902583 0.81516765 0.84667087 0.84644036\n",
      " 0.81232463 0.81320827 0.84843831 0.84690169 0.85466209 0.85516156\n",
      " 0.81316981 0.81305459 0.84778519 0.84663275 0.85454681 0.85454685\n",
      " 0.81347718 0.8141303  0.84770836 0.84613329 0.85412421 0.8540474\n",
      " 0.81716548 0.81835655 0.85043602 0.85070496 0.85808141 0.85835037\n",
      " 0.81662754 0.81754975 0.85005185 0.84997501 0.85773562 0.85796614\n",
      " 0.81743436 0.81820284 0.84959084 0.84866877 0.85677519 0.85665988\n",
      " 0.8567367  0.85642933 0.86299903 0.86261482 0.86749403 0.86730195\n",
      " 0.85723615 0.85704406 0.86203857 0.86226904 0.86764771 0.86737876\n",
      " 0.85658301 0.85685199 0.86223064 0.86238433 0.86741718 0.8668409\n",
      " 0.86419006 0.86361378 0.87152803 0.87033704 0.87298801 0.87252695\n",
      " 0.86392115 0.86430523 0.87072131 0.87106701 0.87206601 0.87172021\n",
      " 0.86388265 0.86242271 0.87068283 0.86964552 0.87210436 0.87145125\n",
      " 0.86783977 0.86795514 0.87168177 0.87160492 0.87210446 0.87318013\n",
      " 0.86799347 0.86691776 0.87137441 0.87125912 0.87152816 0.87029868\n",
      " 0.86791667 0.86745563 0.87095183 0.8701066  0.87010672 0.87072132\n",
      " 0.86330636 0.86342168 0.86964548 0.86987601 0.87041386 0.87187375\n",
      " 0.86280698 0.86388267 0.86929972 0.86983758 0.8702218  0.87041388\n",
      " 0.86307585 0.86246118 0.86964555 0.86891551 0.87210434 0.87114384\n",
      " 0.87018337 0.87037551 0.87099027 0.87210442 0.86929982 0.87148973\n",
      " 0.86887714 0.87049079 0.86945356 0.8722197  0.86891569 0.87133607\n",
      " 0.86979914 0.86976073 0.87022182 0.8721812  0.86745575 0.87141284\n",
      " 0.8707597  0.87206603 0.8686083  0.87148975 0.86445911 0.87152817\n",
      " 0.87014501 0.87072123 0.86764781 0.86895406 0.86326806 0.86899248\n",
      " 0.86849306 0.87014502 0.86753261 0.87114388 0.86584219 0.87129754]\n",
      "  warnings.warn(\n"
     ]
    },
    {
     "name": "stdout",
     "output_type": "stream",
     "text": [
      "Best Parameters: {'colsample_bytree': 0.8, 'gamma': 0.3, 'learning_rate': 0.1, 'max_depth': 5, 'min_child_weight': 1, 'n_estimators': 150, 'subsample': 0.8}\n",
      "Best Accuracy: 0.8733338237582777\n"
     ]
    }
   ],
   "source": [
    "from sklearn.model_selection import GridSearchCV\n",
    "\n",
    "# Parameter grid\n",
    "param_grid = {\n",
    "    'n_estimators': [50, 100, 150],\n",
    "    'learning_rate': [0.01, 0.1, 0.2],\n",
    "    'max_depth': [3, 5, 7],\n",
    "    'min_child_weight': [1, 3, 5],\n",
    "    'gamma': [0, 0.1, 0.3],\n",
    "    'subsample': [0.8, 1.0],\n",
    "    'colsample_bytree': [0.8, 1.0]\n",
    "}\n",
    "\n",
    "# GridSearchCV\n",
    "grid_search = GridSearchCV(estimator=model, param_grid=param_grid, scoring='accuracy', cv=3, verbose=1,n_jobs=-1)\n",
    "grid_search.fit(X_train_transformed, y_train)\n",
    "\n",
    "# Best parameters and score\n",
    "print(\"Best Parameters:\", grid_search.best_params_)\n",
    "print(\"Best Accuracy:\", grid_search.best_score_)"
   ]
  }
 ],
 "metadata": {
  "kernelspec": {
   "display_name": "base",
   "language": "python",
   "name": "python3"
  },
  "language_info": {
   "codemirror_mode": {
    "name": "ipython",
    "version": 3
   },
   "file_extension": ".py",
   "mimetype": "text/x-python",
   "name": "python",
   "nbconvert_exporter": "python",
   "pygments_lexer": "ipython3",
   "version": "3.11.7"
  }
 },
 "nbformat": 4,
 "nbformat_minor": 5
}
